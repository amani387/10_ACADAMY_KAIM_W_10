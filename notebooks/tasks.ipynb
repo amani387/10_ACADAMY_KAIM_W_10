{
 "cells": [
  {
   "cell_type": "code",
   "execution_count": null,
   "metadata": {},
   "outputs": [],
   "source": []
  },
  {
   "cell_type": "code",
   "execution_count": 3,
   "metadata": {},
   "outputs": [
    {
     "name": "stdout",
     "output_type": "stream",
     "text": [
      "hello world\n"
     ]
    }
   ],
   "source": [
    "print(\"hello world\")"
   ]
  },
  {
   "cell_type": "code",
   "execution_count": 13,
   "metadata": {},
   "outputs": [
    {
     "name": "stdout",
     "output_type": "stream",
     "text": [
      "<class 'pandas.core.frame.DataFrame'>\n",
      "RangeIndex: 9011 entries, 0 to 9010\n",
      "Data columns (total 2 columns):\n",
      " #   Column  Non-Null Count  Dtype  \n",
      "---  ------  --------------  -----  \n",
      " 0   Date    9011 non-null   object \n",
      " 1   Price   9011 non-null   float64\n",
      "dtypes: float64(1), object(1)\n",
      "memory usage: 140.9+ KB\n",
      "None\n",
      "        Date  Price\n",
      "0  20-May-87  18.63\n",
      "1  21-May-87  18.45\n",
      "2  22-May-87  18.55\n",
      "3  25-May-87  18.60\n",
      "4  26-May-87  18.63\n"
     ]
    }
   ],
   "source": [
    "import pandas as pd\n",
    "import gdown\n",
    "\n",
    "# Load the dataset\n",
    "df = pd.read_csv(r\"C:\\Users\\kingsta\\Desktop\\week-8&9\\10_ACADAMY_KAIM_W10\\data\\BrentOilPrices.csv\")\n",
    "\n",
    "# Display basic info\n",
    "print(df.info())\n",
    "print(df.head())\n"
   ]
  },
  {
   "cell_type": "code",
   "execution_count": 15,
   "metadata": {},
   "outputs": [
    {
     "name": "stdout",
     "output_type": "stream",
     "text": [
      "Unexpected exception formatting exception. Falling back to standard exception\n"
     ]
    },
    {
     "name": "stderr",
     "output_type": "stream",
     "text": [
      "Traceback (most recent call last):\n",
      "  File \"c:\\Users\\kingsta\\Desktop\\week-8&9\\10_ACADAMY_KAIM_W10\\newvenv\\Lib\\site-packages\\IPython\\core\\interactiveshell.py\", line 3579, in run_code\n",
      "  File \"C:\\Users\\kingsta\\AppData\\Local\\Temp\\ipykernel_17544\\4108107462.py\", line 3, in <module>\n",
      "    import matplotlib.pyplot as plt\n",
      "  File \"c:\\Users\\kingsta\\Desktop\\week-8&9\\10_ACADAMY_KAIM_W10\\newvenv\\Lib\\site-packages\\matplotlib\\__init__.py\", line 1296, in <module>\n",
      "    rcParams['backend'] = os.environ.get('MPLBACKEND')\n",
      "    ~~~~~~~~^^^^^^^^^^^\n",
      "  File \"c:\\Users\\kingsta\\Desktop\\week-8&9\\10_ACADAMY_KAIM_W10\\newvenv\\Lib\\site-packages\\matplotlib\\__init__.py\", line 771, in __setitem__\n",
      "    raise ValueError(f\"Key {key}: {ve}\") from None\n",
      "ValueError: Key backend: 'module://matplotlib_inline.backend_inline' is not a valid value for backend; supported values are ['gtk3agg', 'gtk3cairo', 'gtk4agg', 'gtk4cairo', 'macosx', 'nbagg', 'notebook', 'qtagg', 'qtcairo', 'qt5agg', 'qt5cairo', 'tkagg', 'tkcairo', 'webagg', 'wx', 'wxagg', 'wxcairo', 'agg', 'cairo', 'pdf', 'pgf', 'ps', 'svg', 'template']\n",
      "\n",
      "During handling of the above exception, another exception occurred:\n",
      "\n",
      "Traceback (most recent call last):\n",
      "  File \"c:\\Users\\kingsta\\Desktop\\week-8&9\\10_ACADAMY_KAIM_W10\\newvenv\\Lib\\site-packages\\pygments\\styles\\__init__.py\", line 45, in get_style_by_name\n",
      "ModuleNotFoundError: No module named 'pygments.styles.default'\n",
      "\n",
      "During handling of the above exception, another exception occurred:\n",
      "\n",
      "Traceback (most recent call last):\n",
      "  File \"c:\\Users\\kingsta\\Desktop\\week-8&9\\10_ACADAMY_KAIM_W10\\newvenv\\Lib\\site-packages\\IPython\\core\\interactiveshell.py\", line 2170, in showtraceback\n",
      "  File \"c:\\Users\\kingsta\\Desktop\\week-8&9\\10_ACADAMY_KAIM_W10\\newvenv\\Lib\\site-packages\\IPython\\core\\ultratb.py\", line 1457, in structured_traceback\n",
      "  File \"c:\\Users\\kingsta\\Desktop\\week-8&9\\10_ACADAMY_KAIM_W10\\newvenv\\Lib\\site-packages\\IPython\\core\\ultratb.py\", line 1348, in structured_traceback\n",
      "  File \"c:\\Users\\kingsta\\Desktop\\week-8&9\\10_ACADAMY_KAIM_W10\\newvenv\\Lib\\site-packages\\IPython\\core\\ultratb.py\", line 1195, in structured_traceback\n",
      "  File \"c:\\Users\\kingsta\\Desktop\\week-8&9\\10_ACADAMY_KAIM_W10\\newvenv\\Lib\\site-packages\\IPython\\core\\ultratb.py\", line 1085, in format_exception_as_a_whole\n",
      "  File \"c:\\Users\\kingsta\\Desktop\\week-8&9\\10_ACADAMY_KAIM_W10\\newvenv\\Lib\\site-packages\\IPython\\core\\ultratb.py\", line 1136, in get_records\n",
      "  File \"c:\\Users\\kingsta\\Desktop\\week-8&9\\10_ACADAMY_KAIM_W10\\newvenv\\Lib\\site-packages\\pygments\\styles\\__init__.py\", line 47, in get_style_by_name\n",
      "pygments.util.ClassNotFound: Could not find style module 'pygments.styles.default', though it should be builtin.\n"
     ]
    }
   ],
   "source": [
    "import pandas as pd\n",
    "import os\n",
    "import matplotlib.pyplot as plt\n",
    "import seaborn as sns\n",
    "\n",
    "# Load the dataset\n",
    "df = pd.read_csv(r\"C:\\Users\\kingsta\\Desktop\\week-8&9\\10_ACADAMY_KAIM_W10\\data\\BrentOilPrices.csv\")\n",
    "\n",
    "\n",
    "# Display dataset information\n",
    "print(\"\\n🔹 Dataset Info:\")\n",
    "print(df.info())\n",
    "\n",
    "# Display first few rows\n",
    "print(\"\\n🔹 First 5 Rows of the Dataset:\")\n",
    "print(df.head())\n",
    "\n",
    "# Check for missing values\n",
    "print(\"\\n🔹 Missing Values:\")\n",
    "print(df.isnull().sum())\n",
    "\n",
    "# Convert 'Date' column to datetime format\n",
    "df['Date'] = pd.to_datetime(df['Date'], errors='coerce')\n",
    "\n",
    "# Set 'Date' as index\n",
    "df.set_index('Date', inplace=True)\n",
    "\n",
    "# Sort data by date (just in case)\n",
    "df = df.sort_index()\n",
    "\n",
    "# Visualize oil price trend\n",
    "plt.figure(figsize=(12, 6))\n",
    "plt.plot(df.index, df['Price'], color='blue', linewidth=1)\n",
    "plt.title(\"📈 Brent Oil Prices Over Time\")\n",
    "plt.xlabel(\"Year\")\n",
    "plt.ylabel(\"Price (USD per barrel)\")\n",
    "plt.grid(True)\n",
    "plt.show()\n"
   ]
  }
 ],
 "metadata": {
  "kernelspec": {
   "display_name": "newvenv",
   "language": "python",
   "name": "python3"
  },
  "language_info": {
   "codemirror_mode": {
    "name": "ipython",
    "version": 3
   },
   "file_extension": ".py",
   "mimetype": "text/x-python",
   "name": "python",
   "nbconvert_exporter": "python",
   "pygments_lexer": "ipython3",
   "version": "3.12.7"
  }
 },
 "nbformat": 4,
 "nbformat_minor": 2
}

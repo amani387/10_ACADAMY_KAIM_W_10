{
 "cells": [
  {
   "cell_type": "code",
   "execution_count": null,
   "metadata": {},
   "outputs": [],
   "source": []
  },
  {
   "cell_type": "code",
   "execution_count": 3,
   "metadata": {},
   "outputs": [
    {
     "name": "stdout",
     "output_type": "stream",
     "text": [
      "hello world\n"
     ]
    }
   ],
   "source": [
    "print(\"hello world\")"
   ]
  },
  {
   "cell_type": "code",
   "execution_count": null,
   "metadata": {},
   "outputs": [],
   "source": [
    "import pandas as pd\n",
    "import gdown\n",
    "\n",
    "# Google Drive file URL\n",
    "file_url = \"https://drive.google.com/uc?id=1gK9oGSPnpWDFO_belCbbPw3M6BVueHoP\"\n",
    "\n",
    "# Download the file using gdown\n",
    "output_file = \"brent_oil_prices.csv\"\n",
    "gdown.download(file_url, output_file, quiet=False)\n",
    "\n",
    "# Load the dataset\n",
    "df = pd.read_csv(output_file)\n",
    "\n",
    "# Display basic info\n",
    "print(df.info())\n",
    "print(df.head())\n"
   ]
  }
 ],
 "metadata": {
  "kernelspec": {
   "display_name": "newvenv",
   "language": "python",
   "name": "python3"
  },
  "language_info": {
   "codemirror_mode": {
    "name": "ipython",
    "version": 3
   },
   "file_extension": ".py",
   "mimetype": "text/x-python",
   "name": "python",
   "nbconvert_exporter": "python",
   "pygments_lexer": "ipython3",
   "version": "3.12.7"
  }
 },
 "nbformat": 4,
 "nbformat_minor": 2
}
